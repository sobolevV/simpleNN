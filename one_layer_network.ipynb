{
 "cells": [
  {
   "cell_type": "code",
   "execution_count": 1,
   "metadata": {},
   "outputs": [],
   "source": [
    "import numpy as np\n",
    "\n",
    "# determine XOR data\n",
    "data_in = np.array([[0, 0], [0, 1], [1, 0], [1, 1]])    \n",
    "data_out = np.array([[0], [1], [1], [0]])"
   ]
  },
  {
   "cell_type": "code",
   "execution_count": 2,
   "metadata": {},
   "outputs": [],
   "source": [
    "# Determine functions\n",
    "\n",
    "# Activation function\n",
    "def sigmoid(layer):\n",
    "    return 1 / (1 + np.exp(-layer))\n",
    "\n",
    "# Deriv. sigmoid \n",
    "def sigmoid_diff(layer):\n",
    "    res_sigm = sigmoid(layer)\n",
    "    return res_sigm * (1 - res_sigm)\n",
    "\n",
    "def gradient(err, y_res):\n",
    "    gradient_layer = err*sigmoid_diff(y_res)\n",
    "    return gradient_layer "
   ]
  },
  {
   "cell_type": "code",
   "execution_count": 3,
   "metadata": {},
   "outputs": [],
   "source": [
    "# Simple Neural network (1 hidden layer)\n",
    "\n",
    "class NN():\n",
    "    def __init__(self, hidden_size, learning_rate):\n",
    "        # weights\n",
    "        self.w1 = np.random.rand(hidden_size, 2)\n",
    "        self.w2 = np.random.rand(1, hidden_size)\n",
    "        # biases\n",
    "        self.b1 = np.random.rand(hidden_size, 1)\n",
    "        self.b2 = np.random.rand(1, 1)\n",
    "        # learning rate\n",
    "        self.lr = learning_rate\n",
    "\n",
    "        self.hidden = None\n",
    "        \n",
    "    def feedforward(self, X):\n",
    "        self.hidden = sigmoid(np.dot(self.w1, X.reshape(2, 1)) + nn.b1 ) # \n",
    "        out = sigmoid(np.dot(self.w2, self.hidden) + nn.b2)  #  \n",
    "        return out\n",
    "    \n",
    "    def backpropagation(self, target, out):\n",
    "        out = nn.feedforward(X)\n",
    "        # calc err\n",
    "        err = (Y - out.reshape(-1, 1))\n",
    "        # output layer gradient\n",
    "        gradient_output = err*out*(1-out)\n",
    "\n",
    "        # weights delta\n",
    "        delta_w2 = nn.lr * np.dot(gradient_output, nn.hidden.T)\n",
    "        # update\n",
    "        nn.w2 += delta_w2\n",
    "        # update biases\n",
    "        nn.b2 += nn.lr * gradient_output\n",
    "\n",
    "        # hidden layer error\n",
    "        hidden_err = np.dot(nn.w2.T, err)\n",
    "        # hidden grad.\n",
    "        gradient_h = hidden_err*nn.hidden * (1 - nn.hidden)\n",
    "\n",
    "        # weights delta\n",
    "        delta_w1 = np.dot(gradient_h, X.reshape(2, 1).T)\n",
    "        # update\n",
    "        nn.w1 += (nn.lr)*delta_w1\n",
    "        # change biases\n",
    "        nn.b1 += (nn.lr) * gradient_h"
   ]
  },
  {
   "cell_type": "code",
   "execution_count": 4,
   "metadata": {},
   "outputs": [
    {
     "name": "stdout",
     "output_type": "stream",
     "text": [
      "ep: 100, err 0.07637414612253002\n",
      "ep: 200, err 0.35990775949445647\n",
      "ep: 300, err 0.20809215442202028\n",
      "ep: 400, err 0.2695845951032175\n",
      "ep: 500, err 0.281691418619897\n",
      "ep: 600, err 0.224376346413845\n",
      "ep: 700, err 0.2524007183716017\n",
      "ep: 800, err 0.20033165465746158\n",
      "ep: 900, err 0.23507466814621125\n",
      "ep: 1000, err 0.2505021953860637\n",
      "ep: 1100, err 0.2178675130402658\n",
      "ep: 1200, err 0.26006294498617977\n",
      "ep: 1300, err 0.4546408114061269\n",
      "ep: 1400, err 0.2295184625625681\n",
      "ep: 1500, err 0.27230913085764114\n",
      "ep: 1600, err 0.29812888262633347\n",
      "ep: 1700, err 0.30944940280577776\n",
      "ep: 1800, err 0.22156283781676214\n",
      "ep: 1900, err 0.22371425293427785\n",
      "ep: 2000, err 0.23597893938451367\n",
      "ep: 2100, err 0.2653568279567685\n",
      "ep: 2200, err 0.25319925397224463\n",
      "ep: 2300, err 0.16122099245973393\n",
      "ep: 2400, err 0.2777525506706851\n",
      "ep: 2500, err 0.18819210965269012\n",
      "ep: 2600, err 0.31719593046858935\n",
      "ep: 2700, err 0.2111488101274115\n",
      "ep: 2800, err 0.3521808218781444\n",
      "ep: 2900, err 0.2566325979102739\n",
      "ep: 3000, err 0.2643089564133882\n",
      "ep: 3100, err 0.3088139002987311\n",
      "ep: 3200, err 0.19319618783309003\n",
      "ep: 3300, err 0.21926479810877728\n",
      "ep: 3400, err 0.27928683332773735\n",
      "ep: 3500, err 0.2659686004022596\n",
      "ep: 3600, err 0.290742166187295\n",
      "ep: 3700, err 0.13426576542435859\n",
      "ep: 3800, err 0.20789702437821259\n",
      "ep: 3900, err 0.20662039358038178\n",
      "ep: 4000, err 0.2867166561505404\n",
      "ep: 4100, err 0.24133339514711108\n",
      "ep: 4200, err 0.15912753006477476\n",
      "ep: 4300, err 0.2136911337753652\n",
      "ep: 4400, err 0.25241701131801164\n",
      "ep: 4500, err 0.23277316649521734\n",
      "ep: 4600, err 0.152045784614659\n",
      "ep: 4700, err 0.231953370059551\n",
      "ep: 4800, err 0.15905666313548594\n",
      "ep: 4900, err 0.17838836101493352\n",
      "ep: 5000, err 0.11685897643297354\n",
      "ep: 5100, err 0.19574925305879026\n",
      "ep: 5200, err 0.12718333741631072\n",
      "ep: 5300, err 0.26953213509923213\n",
      "ep: 5400, err 0.12070322718033358\n",
      "ep: 5500, err 0.24431569128600014\n",
      "ep: 5600, err 0.1041170146805758\n",
      "ep: 5700, err 0.13462892117450723\n",
      "ep: 5800, err 0.21438214874372397\n",
      "ep: 5900, err 0.08220741962065262\n",
      "ep: 6000, err 0.31431817106374155\n",
      "ep: 6100, err 0.18893091833039957\n",
      "ep: 6200, err 0.18814148731621266\n",
      "ep: 6300, err 0.2150790013450073\n",
      "ep: 6400, err 0.057353772039093705\n",
      "ep: 6500, err 0.037516653635693877\n",
      "ep: 6600, err 0.12712113612602413\n",
      "ep: 6700, err 0.15716150961903194\n",
      "ep: 6800, err 0.024128865688307025\n",
      "ep: 6900, err 0.07685070408708729\n",
      "ep: 7000, err 0.04915554946382567\n",
      "ep: 7100, err 0.052533585485931525\n",
      "ep: 7200, err 0.0634621323906789\n",
      "ep: 7300, err 0.022295475238115144\n",
      "ep: 7400, err 0.05346391973151382\n",
      "ep: 7500, err 0.06201201461962869\n",
      "ep: 7600, err 0.0951231051148621\n",
      "ep: 7700, err 0.014567245428993821\n",
      "ep: 7800, err 0.07469620895224076\n",
      "ep: 7900, err 0.007060780659453877\n",
      "ep: 8000, err 0.06673846148579622\n",
      "ep: 8100, err 0.04182574293853842\n",
      "ep: 8200, err 0.03887568520455216\n",
      "ep: 8300, err 0.006707396777783277\n",
      "ep: 8400, err 0.006553127001926145\n",
      "ep: 8500, err 0.03059944646459541\n",
      "ep: 8600, err 0.03356023918786578\n",
      "ep: 8700, err 0.02229057583740673\n",
      "ep: 8800, err 0.022466927304248166\n",
      "ep: 8900, err 0.040441213698373175\n",
      "ep: 9000, err 0.05421698371888182\n",
      "ep: 9100, err 0.024915407127556397\n",
      "ep: 9200, err 0.018188818885043003\n",
      "ep: 9300, err 0.03667293915810239\n",
      "ep: 9400, err 0.02176754428465274\n",
      "ep: 9500, err 0.003368824603197884\n",
      "ep: 9600, err 0.021826947782535237\n",
      "ep: 9700, err 0.022851146138666345\n",
      "ep: 9800, err 0.02158814029824268\n",
      "ep: 9900, err 0.00220584479388595\n",
      "ep: 10000, err 0.0212287410527543\n"
     ]
    }
   ],
   "source": [
    "nn = NN(5, 0.1)\n",
    "iterations = 10000\n",
    "errors = []\n",
    "iters = []\n",
    "for i in range(iterations):\n",
    "    \n",
    "    indx = np.random.randint(4)\n",
    "    X = data_in[indx]\n",
    "    Y = data_out[indx].reshape(1, 1)\n",
    "    \n",
    "    out = nn.feedforward(X)\n",
    "    err = Y - out\n",
    "    nn.backpropagation(Y, out)\n",
    "    \n",
    "    if (i+1) % 100 == 0:\n",
    "        total_err = np.sum(err**2)/err.shape[0]\n",
    "        errors.append(total_err)\n",
    "        iters.append(i+1)\n",
    "        print(f\"ep: {i+1}, err {total_err}\")\n",
    "    "
   ]
  },
  {
   "cell_type": "code",
   "execution_count": 5,
   "metadata": {},
   "outputs": [
    {
     "name": "stdout",
     "output_type": "stream",
     "text": [
      "accuracy: 100.0%\n"
     ]
    }
   ],
   "source": [
    "true_vals = 0\n",
    "tests = 500\n",
    "\n",
    "for i in range(tests):\n",
    "    indx = np.random.randint(4)\n",
    "    res = nn.feedforward(data_in[indx])\n",
    "    if (np.round(res[0])) == data_out[indx]:\n",
    "        true_vals += 1\n",
    "\n",
    "print(f\"accuracy: {(true_vals/tests) * 100}%\")"
   ]
  },
  {
   "cell_type": "code",
   "execution_count": 6,
   "metadata": {},
   "outputs": [],
   "source": [
    "import matplotlib.pyplot as plt"
   ]
  },
  {
   "cell_type": "code",
   "execution_count": 7,
   "metadata": {},
   "outputs": [
    {
     "data": {
      "image/png": "[encoded data removed]",
      "text/plain": [
       "<Figure size 576x432 with 1 Axes>"
      ]
     },
     "metadata": {
      "needs_background": "light"
     },
     "output_type": "display_data"
    }
   ],
   "source": [
    "plt.figure(figsize=(8, 6))\n",
    "plt.plot(errors)\n",
    "plt.xticks(ticks=[i for i in range(0, 101, 10)], labels=[iters[i] for i in range(0, len(iters), int(len(iters)*0.09))], rotation=25)\n",
    "plt.ylabel(\"error\")\n",
    "plt.xlabel(\"iterations\")\n",
    "plt.show()\n"
   ]
  },
  {
   "cell_type": "code",
   "execution_count": null,
   "metadata": {},
   "outputs": [],
   "source": []
  }
 ],
 "metadata": {
  "kernelspec": {
   "display_name": "Python 3",
   "language": "python",
   "name": "python3"
  },
  "language_info": {
   "codemirror_mode": {
    "name": "ipython",
    "version": 3
   },
   "file_extension": ".py",
   "mimetype": "text/x-python",
   "name": "python",
   "nbconvert_exporter": "python",
   "pygments_lexer": "ipython3",
   "version": "3.6.7"
  }
 },
 "nbformat": 4,
 "nbformat_minor": 2
}
