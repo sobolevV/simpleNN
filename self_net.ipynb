{
 "cells": [
  {
   "cell_type": "code",
   "execution_count": 4,
   "metadata": {
    "collapsed": true
   },
   "outputs": [],
   "source": [
    "from keras.datasets import mnist\n",
    "(x_train, y_train), (x_test, y_test) = mnist.load_data()"
   ]
  },
  {
   "cell_type": "code",
   "execution_count": 21,
   "metadata": {},
   "outputs": [],
   "source": [
    "import numpy as np\n",
    "class NN:\n",
    "    def __init__(self, input_size, second_size, third_size, output_size, lr=0.01):\n",
    "        self.input_size = input_size\n",
    "        self.second_size = second_size\n",
    "        self.third_size = third_size\n",
    "        self.output_size = output_size\n",
    "        self.lr = lr\n",
    "        \n",
    "        # self.input_layer = np.random.rand(input_size) * 2 - 1\n",
    "        # Create weights and biases between FIRST and SECOND layer\n",
    "        self.w_input_second = np.random.rand(input_size, second_size) * 2 - 1\n",
    "        self.bias_input_second = np.random.rand(1, second_size) * 2 - 1\n",
    "        # print(\"w_input_second \", self.w_input_second.shape)\n",
    "        \n",
    "        # self.second_layer = np.dot(self.input_layer, self.w_input_second) + self.bias_input_second\n",
    "        \n",
    "        # print(\"second_layer \", self.second_layer.shape)\n",
    "        # Create weights and biases between SECOND and THIRD layer\n",
    "        self.w_second_third = np.random.rand(second_size, third_size) * 2 - 1\n",
    "        self.bias_second_third = np.random.rand(1, third_size) * 2 - 1\n",
    "        \n",
    "        # self.third_layer = np.dot(self.second_layer, self.w_second_third) + self.bias_second_third\n",
    "        \n",
    "        # print(\"third_layer \", self.third_layer.shape)\n",
    "        self.w_third_output = np.random.rand(third_size, output_size) * 2 - 1\n",
    "        # print(\"w_third_output \", self.w_third_output.shape)\n",
    "        self.bias_third_output = np.random.rand(1, output_size) * 2 - 1\n",
    "        \n",
    "        # self.out = np.dot(self.third_layer, self.w_third_output) + self.bias_third_output\n",
    "        \n",
    "    def sigmoid(self, array):\n",
    "        return 1 / (1 + np.exp(-array))\n",
    "    \n",
    "    def cost(self, out_y, y):\n",
    "        m = y.shape[0]\n",
    "        return np.sum(np.power(out_y - y, 2)) / m\n",
    "    \n",
    "    def gradient(self):\n",
    "        pass\n",
    "    \n",
    "    def feedforward(self, input):\n",
    "        self.second_layer = np.dot(input, self.w_input_second) + self.bias_input_second\n",
    "        self.second_layer = self.sigmoid(self.second_layer)\n",
    "        self.third_layer = np.dot(self.second_layer, self.w_second_third) + self.bias_second_third\n",
    "        self.third_layer = self.sigmoid(self.third_layer)\n",
    "        self.out = np.dot(self.third_layer, self.w_third_output) + self.bias_third_output\n",
    "        self.out = self.sigmoid(self.out)\n",
    "        return self.out\n",
    "\n"
   ]
  },
  {
   "cell_type": "heading",
   "metadata": {},
   "level": 1,
   "source": [
    "\n",
    "# import numpy as np\n",
    "# input_size = 28*28\n",
    "# second_size = 256\n",
    "# third_size = 128\n",
    "# output_size = 10\n",
    "# # first-second layer\n",
    "# input_layer = np.random.rand(input_size)\n",
    "# syn_input_second = np.random.rand(input_size, second_size)\n",
    "# bias_input_second = np.random.rand(1, second_size)\n",
    "# # second_output = np.dot(input_layer, syn_input_second) + bias_input_second\n",
    "# # second-third layer\n",
    "# # second_layer = np.random.rand(second_size, 1)\n",
    "# syn_second_third = np.random.rand(second_size, third_size)\n",
    "# bias_second_third = np.random.rand(1, third_size)\n",
    "# # third_output = np.dot(second_output, syn_second_third) + bias_second_third\n",
    "# # third-output layer\n",
    "# syn_third_output = np.random.rand(third_size, output_size)\n",
    "# bias_third_output = np.random.rand(1, output_size)\n",
    "# output_layer = np.random.rand(1, )+\n"
   ]
  },
  {
   "cell_type": "code",
   "execution_count": 22,
   "metadata": {},
   "outputs": [
    {
     "name": "stdout",
     "output_type": "stream",
     "text": [
      "cost 3.762556366341053\ncost 3.6961914733468375\ncost"
     ]
    },
    {
     "name": "stdout",
     "output_type": "stream",
     "text": [
      " 3.2148463825096663\n"
     ]
    },
    {
     "data": {
      "image/png": "[encoded data removed]",
      "text/plain": [
       "<Figure size 432x288 with 3 Axes>"
      ]
     },
     "metadata": {},
     "output_type": "display_data"
    }
   ],
   "source": [
    "import itertools\n",
    "from matplotlib import pyplot as plt\n",
    "input_size = 28*28\n",
    "output_size = 10\n",
    "second_layer = 200\n",
    "third_layer = 100\n",
    "nn = NN(input_size, second_layer, third_layer, output_size)\n",
    "\n",
    "train_x_y = itertools.cycle(zip(x_train, y_train))\n",
    "f, axarr = plt.subplots(1, 3)\n",
    "for i in range(3):\n",
    "    X, Y_index = next(train_x_y)\n",
    "    # plt.plot(data=X)\n",
    "    axarr[i].imshow(X)\n",
    "    X = np.array(X, dtype=float).reshape((input_size)) / 255\n",
    "    Y = np.zeros((output_size, 1), dtype=float)\n",
    "    Y[Y_index] = 1.\n",
    "    out = nn.feedforward(X)\n",
    "    cost = nn.cost(out, Y)\n",
    "    print(\"cost\", cost)\n",
    "\n",
    "plt.show()"
   ]
  },
  {
   "cell_type": "code",
   "execution_count": null,
   "metadata": {
    "collapsed": true
   },
   "outputs": [
    {
     "data": {
      "text/plain": [
       "array([[  0,   0,   0,   0,   0,   0,   0,   0,   0,   0,   0,   0,   0,\n          0,   0,   0,   0,   0,   0,   0,   0,   0,   0,   0,   0,   0,\n          0,   0],\n       [  0,   0,   0,   0,   0,   0,   0,   0,   0,   0,   0,   0,   0,\n          0,   0,   0,   0,   0,   0,   0,   0,   0,   0,   0,   0,   0,\n          0,   0],\n       [  0,   0,   0,   0,   0,   0,   0,   0,   0,   0,   0,   0,   0,\n          0,   0,   0,   0,   0,   0,   0,   0,   0,   0,   0,   0,   0,\n          0,   0],\n       [  0,   0,   0,   0,   0,   0,   0,   0,   0,   0,   0,   0,   0,\n          0,   0,   0,   0,   0,   0,   0,   0,   0,   0,   0,   0,   0,\n          0,   0],\n       [  0,   0,   0,   0,   0,   0,   0,   0,   0,   0,   0,   0,   0,\n          0,   0,   0,   0,   0,   0,   0,   0,   0,   0,   0,   0,   0,\n          0,   0],\n       [  0,   0,   0,   0,   0,   0,   0,   0,   0,   0,   0,   0,   3,\n         18,  18,  18, 126, 136, 175,  26, 166, 255, 247, 127,   0,   0,\n          0,   0],\n       [  0,   0,   0,   0,   0,   0,   0,   0,  30,  36,  94, 154, 170,\n        253, 253, 253, 253, 253, 225, 172, 253, 242, 195,  64,   0,   0,\n          0,   0],\n       [  0,   0,   0,   0,   0,   0,   0,  49, 238, 253, 253, 253, 253,\n        253, 253, 253, 253, 251,  93,  82,  82,  56,  39,   0,   0,   0,\n          0,   0],\n       [  0,   0,   0,   0,   0,   0,   0,  18, 219, 253, 253, 253, 253,\n        253, 198, 182, 247, 241,   0,   0,   0,   0,   0,   0,   0,   0,\n          0,   0],\n       [  0,   0,   0,   0,   0,   0,   0,   0,  80, 156, 107, 253, 253,\n        205,  11,   0,  43, 154,   0,   0,   0,   0,   0,   0,   0,   0,\n          0,   0],\n       [  0,   0,   0,   0,   0,   0,   0,   0,   0,  14,   1, 154, 253,\n         90,   0,   0,   0,   0,   0,   0,   0,   0,   0,   0,   0,   0,\n          0,   0],\n       [  0,   0,   0,   0,   0,   0,   0,   0,   0,   0,   0, 139, 253,\n        190,   2,   0,   0,   0,   0,   0,   0,   0,   0,   0,   0,   0,\n          0,   0],\n       [  0,   0,   0,   0,   0,   0,   0,   0,   0,   0,   0,  11, 190,\n        253,  70,   0,   0,   0,   0,   0,   0,   0,   0,   0,   0,   0,\n          0,   0],\n       [  0,   0,   0,   0,   0,   0,   0,   0,   0,   0,   0,   0,  35,\n        241, 225, 160, 108,   1,   0,   0,   0,   0,   0,   0,   0,   0,\n          0,   0],\n       [  0,   0,   0,   0,   0,   0,   0,   0,   0,   0,   0,   0,   0,\n         81, 240, 253, 253, 119,  25,   0,   0,   0,   0,   0,   0,   0,\n          0,   0],\n       [  0,   0,   0,   0,   0,   0,   0,   0,   0,   0,   0,   0,   0,\n          0,  45, 186, 253, 253, 150,  27,   0,   0,   0,   0,   0,   0,\n          0,   0],\n       [  0,   0,   0,   0,   0,   0,   0,   0,   0,   0,   0,   0,   0,\n          0,   0,  16,  93, 252, 253, 187,   0,   0,   0,   0,   0,   0,\n          0,   0],\n       [  0,   0,   0,   0,   0,   0,   0,   0,   0,   0,   0,   0,   0,\n          0,   0,   0,   0, 249, 253, 249,  64,   0,   0,   0,   0,   0,\n          0,   0],\n       [  0,   0,   0,   0,   0,   0,   0,   0,   0,   0,   0,   0,   0,\n          0,  46, 130, 183, 253, 253, 207,   2,   0,   0,   0,   0,   0,\n          0,   0],\n       [  0,   0,   0,   0,   0,   0,   0,   0,   0,   0,   0,   0,  39,\n        148, 229, 253, 253, 253, 250, 182,   0,   0,   0,   0,   0,   0,\n          0,   0],\n       [  0,   0,   0,   0,   0,   0,   0,   0,   0,   0,  24, 114, 221,\n        253, 253, 253, 253, 201,  78,   0,   0,   0,   0,   0,   0,   0,\n          0,   0],\n       [  0,   0,   0,   0,   0,   0,   0,   0,  23,  66, 213, 253, 253,\n        253, 253, 198,  81,   2,   0,   0,   0,   0,   0,   0,   0,   0,\n          0,   0],\n       [  0,   0,   0,   0,   0,   0,  18, 171, 219, 253, 253, 253, 253,\n        195,  80,   9,   0,   0,   0,   0,   0,   0,   0,   0,   0,   0,\n          0,   0],\n       [  0,   0,   0,   0,  55, 172, 226, 253, 253, 253, 253, 244, 133,\n         11,   0,   0,   0,   0,   0,   0,   0,   0,   0,   0,   0,   0,\n          0,   0],\n       [  0,   0,   0,   0, 136, 253, 253, 253, 212, 135, 132,  16,   0,\n          0,   0,   0,   0,   0,   0,   0,   0,   0,   0,   0,   0,   0,\n          0,   0],\n       [  0,   0,   0,   0,   0,   0,   0,   0,   0,   0,   0,   0,   0,\n          0,   0,   0,   0,   0,   0,   0,   0,   0,   0,   0,   0,   0,\n          0,   0],\n       [  0,   0,   0,   0,   0,   0,   0,   0,   0,   0,   0,   0,   0,\n          0,   0,   0,   0,   0,   0,   0,   0,   0,   0,   0,   0,   0,\n          0,   0],\n       [  0,   0,   0,   0,   0,   0,   0,   0,   0,   0,   0,   0,   0,\n          0,   0,   0,   0,   0,   0,   0,   0,   0,   0,   0,   0,   0,\n          0,   0]], dtype=uint8)"
      ]
     },
     "execution_count": 4,
     "metadata": {},
     "output_type": "execute_result"
    }
   ],
   "source": [
    "\n",
    "\n"
   ]
  }
 ],
 "metadata": {
  "kernelspec": {
   "display_name": "Python 2",
   "language": "python",
   "name": "python2"
  },
  "language_info": {
   "codemirror_mode": {
    "name": "ipython",
    "version": 2
   },
   "file_extension": ".py",
   "mimetype": "text/x-python",
   "name": "python",
   "nbconvert_exporter": "python",
   "pygments_lexer": "ipython2",
   "version": "2.7.6"
  }
 },
 "nbformat": 4,
 "nbformat_minor": 0
}
